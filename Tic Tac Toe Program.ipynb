{
 "cells": [
  {
   "cell_type": "code",
   "execution_count": null,
   "metadata": {},
   "outputs": [
    {
     "name": "stdout",
     "output_type": "stream",
     "text": [
      "||\n",
      "-----\n",
      "||\n",
      "-----\n",
      "||\n",
      "-----\n"
     ]
    }
   ],
   "source": [
    "def print_board(board):\n",
    "    for row in board:\n",
    "        print(\"|\".join(row))\n",
    "        print(\"-\" * 5)\n",
    "\n",
    "def handle_move(board, player_symbol):\n",
    "    while True:\n",
    "        move = input(\"Player {}: Enter your move (row[1-3] column[1-3]): \".format(player_symbol))\n",
    "        row, col = move.split()\n",
    "        row = int(row) - 1\n",
    "        col = int(col) - 1\n",
    "        if 0 <= row < 3 and 0 <= col < 3 and board[row][col] == \"\":\n",
    "            board[row][col] = player_symbol\n",
    "            break\n",
    "        else:\n",
    "            print(\"Invalid move. Try again.\")\n",
    "\n",
    "def check_win(board, player_symbol):\n",
    "    # Check rows\n",
    "    for row in board:\n",
    "        if row.count(player_symbol) == 3:\n",
    "            return True\n",
    "\n",
    "    # Check columns\n",
    "    for col in range(3):\n",
    "        if [board[row][col] for row in range(3)].count(player_symbol) == 3:\n",
    "            return True\n",
    "\n",
    "    # Check diagonals\n",
    "    if board[0][0] == board[1][1] == board[2][2] == player_symbol:\n",
    "        return True\n",
    "    if board[0][2] == board[1][1] == board[2][0] == player_symbol:\n",
    "        return True\n",
    "\n",
    "    return False\n",
    "\n",
    "def check_tie(board):\n",
    "    for row in board:\n",
    "        if \"\" in row:\n",
    "            return False\n",
    "    return True\n",
    "\n",
    "def play_game():\n",
    "    board = [[\"\", \"\", \"\"], [\"\", \"\", \"\"], [\"\", \"\", \"\"]]\n",
    "    player_symbol = \"X\"\n",
    "\n",
    "    while True:\n",
    "        print_board(board)\n",
    "        handle_move(board, player_symbol)\n",
    "\n",
    "        if check_win(board, player_symbol):\n",
    "            print_board(board)\n",
    "            print(\"Player {} wins!\".format(player_symbol))\n",
    "            break\n",
    "\n",
    "        if check_tie(board):\n",
    "            print_board(board)\n",
    "            print(\"It's a tie!\")\n",
    "            break\n",
    "\n",
    "        player_symbol = \"O\" if player_symbol == \"X\" else \"X\"\n",
    "\n",
    "play_game()"
   ]
  },
  {
   "cell_type": "code",
   "execution_count": null,
   "metadata": {},
   "outputs": [],
   "source": []
  }
 ],
 "metadata": {
  "kernelspec": {
   "display_name": "Python 3",
   "language": "python",
   "name": "python3"
  },
  "language_info": {
   "codemirror_mode": {
    "name": "ipython",
    "version": 3
   },
   "file_extension": ".py",
   "mimetype": "text/x-python",
   "name": "python",
   "nbconvert_exporter": "python",
   "pygments_lexer": "ipython3",
   "version": "3.8.5"
  }
 },
 "nbformat": 4,
 "nbformat_minor": 4
}
